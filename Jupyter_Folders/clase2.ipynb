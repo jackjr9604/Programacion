{
 "cells": [
  {
   "cell_type": "code",
   "execution_count": 1,
   "metadata": {},
   "outputs": [],
   "source": [
    "import pandas as pd"
   ]
  },
  {
   "cell_type": "markdown",
   "metadata": {},
   "source": [
    "aqui se llama el archivo csv i con el parametro llamado skiprows= q es saltar filas y se le pone el numero de columnas a saltar"
   ]
  },
  {
   "cell_type": "code",
   "execution_count": 2,
   "metadata": {},
   "outputs": [],
   "source": [
    "tabla = pd.read_csv(\"C:/Users/alabama/Documents/Programacion/Jupyter_Folders/ventasTotales.csv\" , skiprows=5 , sep= ';')"
   ]
  },
  {
   "cell_type": "code",
   "execution_count": 3,
   "metadata": {},
   "outputs": [
    {
     "data": {
      "text/html": [
       "<div>\n",
       "<style scoped>\n",
       "    .dataframe tbody tr th:only-of-type {\n",
       "        vertical-align: middle;\n",
       "    }\n",
       "\n",
       "    .dataframe tbody tr th {\n",
       "        vertical-align: top;\n",
       "    }\n",
       "\n",
       "    .dataframe thead th {\n",
       "        text-align: right;\n",
       "    }\n",
       "</style>\n",
       "<table border=\"1\" class=\"dataframe\">\n",
       "  <thead>\n",
       "    <tr style=\"text-align: right;\">\n",
       "      <th></th>\n",
       "      <th>Fecha</th>\n",
       "      <th>Vendedor</th>\n",
       "      <th>Región</th>\n",
       "      <th>Artículo</th>\n",
       "      <th>Categoría</th>\n",
       "      <th>Unidades</th>\n",
       "      <th>Ganancia</th>\n",
       "    </tr>\n",
       "  </thead>\n",
       "  <tbody>\n",
       "    <tr>\n",
       "      <th>0</th>\n",
       "      <td>1/1/2016</td>\n",
       "      <td>Steve Ashton</td>\n",
       "      <td>Norte</td>\n",
       "      <td>Medias Femeninas</td>\n",
       "      <td>Vestimenta</td>\n",
       "      <td>6</td>\n",
       "      <td>18,00</td>\n",
       "    </tr>\n",
       "    <tr>\n",
       "      <th>1</th>\n",
       "      <td>1/1/2016</td>\n",
       "      <td>Trevor Snodgrass</td>\n",
       "      <td>Oeste</td>\n",
       "      <td>Chocolate</td>\n",
       "      <td>Comestibles</td>\n",
       "      <td>8</td>\n",
       "      <td>3,84</td>\n",
       "    </tr>\n",
       "    <tr>\n",
       "      <th>2</th>\n",
       "      <td>1/1/2016</td>\n",
       "      <td>Sarah Bond</td>\n",
       "      <td>Sur</td>\n",
       "      <td>Gorras</td>\n",
       "      <td>Vestimenta</td>\n",
       "      <td>3</td>\n",
       "      <td>6,30</td>\n",
       "    </tr>\n",
       "    <tr>\n",
       "      <th>3</th>\n",
       "      <td>1/1/2016</td>\n",
       "      <td>Desmond Delaney</td>\n",
       "      <td>Sur</td>\n",
       "      <td>Sánguche de Queso</td>\n",
       "      <td>Comestibles</td>\n",
       "      <td>9</td>\n",
       "      <td>14,40</td>\n",
       "    </tr>\n",
       "    <tr>\n",
       "      <th>4</th>\n",
       "      <td>1/1/2016</td>\n",
       "      <td>Desmond Delaney</td>\n",
       "      <td>Este</td>\n",
       "      <td>Chocolate</td>\n",
       "      <td>Comestibles</td>\n",
       "      <td>14</td>\n",
       "      <td>6,72</td>\n",
       "    </tr>\n",
       "    <tr>\n",
       "      <th>...</th>\n",
       "      <td>...</td>\n",
       "      <td>...</td>\n",
       "      <td>...</td>\n",
       "      <td>...</td>\n",
       "      <td>...</td>\n",
       "      <td>...</td>\n",
       "      <td>...</td>\n",
       "    </tr>\n",
       "    <tr>\n",
       "      <th>455</th>\n",
       "      <td>31/1/2016</td>\n",
       "      <td>Sarah Bond</td>\n",
       "      <td>Sur</td>\n",
       "      <td>Bufanda</td>\n",
       "      <td>Vestimenta</td>\n",
       "      <td>6</td>\n",
       "      <td>16,50</td>\n",
       "    </tr>\n",
       "    <tr>\n",
       "      <th>456</th>\n",
       "      <td>31/1/2016</td>\n",
       "      <td>Dustin Gee</td>\n",
       "      <td>Este</td>\n",
       "      <td>Sandalias</td>\n",
       "      <td>Vestimenta</td>\n",
       "      <td>11</td>\n",
       "      <td>115,50</td>\n",
       "    </tr>\n",
       "    <tr>\n",
       "      <th>457</th>\n",
       "      <td>31/1/2016</td>\n",
       "      <td>Dustin Gee</td>\n",
       "      <td>Este</td>\n",
       "      <td>Sánguche de Queso</td>\n",
       "      <td>Comestibles</td>\n",
       "      <td>4</td>\n",
       "      <td>6,40</td>\n",
       "    </tr>\n",
       "    <tr>\n",
       "      <th>458</th>\n",
       "      <td>31/1/2016</td>\n",
       "      <td>Dustin Gee</td>\n",
       "      <td>Norte</td>\n",
       "      <td>Escobillón</td>\n",
       "      <td>Hogar</td>\n",
       "      <td>8</td>\n",
       "      <td>6,80</td>\n",
       "    </tr>\n",
       "    <tr>\n",
       "      <th>459</th>\n",
       "      <td>31/1/2016</td>\n",
       "      <td>Trevor Snodgrass</td>\n",
       "      <td>Sur</td>\n",
       "      <td>Pepinillo</td>\n",
       "      <td>Comestibles</td>\n",
       "      <td>7</td>\n",
       "      <td>2,10</td>\n",
       "    </tr>\n",
       "  </tbody>\n",
       "</table>\n",
       "<p>460 rows × 7 columns</p>\n",
       "</div>"
      ],
      "text/plain": [
       "         Fecha          Vendedor Región           Artículo    Categoría  \\\n",
       "0     1/1/2016      Steve Ashton  Norte   Medias Femeninas   Vestimenta   \n",
       "1     1/1/2016  Trevor Snodgrass  Oeste          Chocolate  Comestibles   \n",
       "2     1/1/2016        Sarah Bond    Sur             Gorras   Vestimenta   \n",
       "3     1/1/2016   Desmond Delaney    Sur  Sánguche de Queso  Comestibles   \n",
       "4     1/1/2016   Desmond Delaney   Este          Chocolate  Comestibles   \n",
       "..         ...               ...    ...                ...          ...   \n",
       "455  31/1/2016        Sarah Bond    Sur            Bufanda   Vestimenta   \n",
       "456  31/1/2016        Dustin Gee   Este          Sandalias   Vestimenta   \n",
       "457  31/1/2016        Dustin Gee   Este  Sánguche de Queso  Comestibles   \n",
       "458  31/1/2016        Dustin Gee  Norte         Escobillón        Hogar   \n",
       "459  31/1/2016  Trevor Snodgrass    Sur          Pepinillo  Comestibles   \n",
       "\n",
       "     Unidades Ganancia  \n",
       "0           6    18,00  \n",
       "1           8     3,84  \n",
       "2           3     6,30  \n",
       "3           9    14,40  \n",
       "4          14     6,72  \n",
       "..        ...      ...  \n",
       "455         6    16,50  \n",
       "456        11   115,50  \n",
       "457         4     6,40  \n",
       "458         8     6,80  \n",
       "459         7     2,10  \n",
       "\n",
       "[460 rows x 7 columns]"
      ]
     },
     "execution_count": 3,
     "metadata": {},
     "output_type": "execute_result"
    }
   ],
   "source": [
    "tabla"
   ]
  },
  {
   "cell_type": "markdown",
   "metadata": {},
   "source": [
    "con el parametro Shape (forma en español) nos devuelve la dimension del dataframe, filas y columnas"
   ]
  },
  {
   "cell_type": "code",
   "execution_count": 4,
   "metadata": {},
   "outputs": [
    {
     "data": {
      "text/plain": [
       "(460, 7)"
      ]
     },
     "execution_count": 4,
     "metadata": {},
     "output_type": "execute_result"
    }
   ],
   "source": [
    "tabla.shape"
   ]
  },
  {
   "cell_type": "markdown",
   "metadata": {},
   "source": [
    "con el atributo 0 podemos pedir la cantidad de filas"
   ]
  },
  {
   "cell_type": "code",
   "execution_count": 5,
   "metadata": {},
   "outputs": [
    {
     "data": {
      "text/plain": [
       "460"
      ]
     },
     "execution_count": 5,
     "metadata": {},
     "output_type": "execute_result"
    }
   ],
   "source": [
    "tabla.shape[0]"
   ]
  },
  {
   "cell_type": "markdown",
   "metadata": {},
   "source": [
    "con el atributo 1 pedimos la cantidad de columnas"
   ]
  },
  {
   "cell_type": "code",
   "execution_count": 6,
   "metadata": {},
   "outputs": [
    {
     "data": {
      "text/plain": [
       "7"
      ]
     },
     "execution_count": 6,
     "metadata": {},
     "output_type": "execute_result"
    }
   ],
   "source": [
    "tabla.shape[1]"
   ]
  },
  {
   "cell_type": "markdown",
   "metadata": {},
   "source": [
    "con el parametro head podemos vwer los primeros registros, si no le damos un valor nos muestra las primeras 5"
   ]
  },
  {
   "cell_type": "code",
   "execution_count": 7,
   "metadata": {},
   "outputs": [
    {
     "data": {
      "text/html": [
       "<div>\n",
       "<style scoped>\n",
       "    .dataframe tbody tr th:only-of-type {\n",
       "        vertical-align: middle;\n",
       "    }\n",
       "\n",
       "    .dataframe tbody tr th {\n",
       "        vertical-align: top;\n",
       "    }\n",
       "\n",
       "    .dataframe thead th {\n",
       "        text-align: right;\n",
       "    }\n",
       "</style>\n",
       "<table border=\"1\" class=\"dataframe\">\n",
       "  <thead>\n",
       "    <tr style=\"text-align: right;\">\n",
       "      <th></th>\n",
       "      <th>Fecha</th>\n",
       "      <th>Vendedor</th>\n",
       "      <th>Región</th>\n",
       "      <th>Artículo</th>\n",
       "      <th>Categoría</th>\n",
       "      <th>Unidades</th>\n",
       "      <th>Ganancia</th>\n",
       "    </tr>\n",
       "  </thead>\n",
       "  <tbody>\n",
       "    <tr>\n",
       "      <th>0</th>\n",
       "      <td>1/1/2016</td>\n",
       "      <td>Steve Ashton</td>\n",
       "      <td>Norte</td>\n",
       "      <td>Medias Femeninas</td>\n",
       "      <td>Vestimenta</td>\n",
       "      <td>6</td>\n",
       "      <td>18,00</td>\n",
       "    </tr>\n",
       "    <tr>\n",
       "      <th>1</th>\n",
       "      <td>1/1/2016</td>\n",
       "      <td>Trevor Snodgrass</td>\n",
       "      <td>Oeste</td>\n",
       "      <td>Chocolate</td>\n",
       "      <td>Comestibles</td>\n",
       "      <td>8</td>\n",
       "      <td>3,84</td>\n",
       "    </tr>\n",
       "  </tbody>\n",
       "</table>\n",
       "</div>"
      ],
      "text/plain": [
       "      Fecha          Vendedor Región          Artículo    Categoría  Unidades  \\\n",
       "0  1/1/2016      Steve Ashton  Norte  Medias Femeninas   Vestimenta         6   \n",
       "1  1/1/2016  Trevor Snodgrass  Oeste         Chocolate  Comestibles         8   \n",
       "\n",
       "  Ganancia  \n",
       "0    18,00  \n",
       "1     3,84  "
      ]
     },
     "execution_count": 7,
     "metadata": {},
     "output_type": "execute_result"
    }
   ],
   "source": [
    "tabla.head(2)"
   ]
  },
  {
   "cell_type": "markdown",
   "metadata": {},
   "source": [
    "con el parametro tail nos muestra las ultimas filas"
   ]
  },
  {
   "cell_type": "code",
   "execution_count": 8,
   "metadata": {},
   "outputs": [
    {
     "data": {
      "text/html": [
       "<div>\n",
       "<style scoped>\n",
       "    .dataframe tbody tr th:only-of-type {\n",
       "        vertical-align: middle;\n",
       "    }\n",
       "\n",
       "    .dataframe tbody tr th {\n",
       "        vertical-align: top;\n",
       "    }\n",
       "\n",
       "    .dataframe thead th {\n",
       "        text-align: right;\n",
       "    }\n",
       "</style>\n",
       "<table border=\"1\" class=\"dataframe\">\n",
       "  <thead>\n",
       "    <tr style=\"text-align: right;\">\n",
       "      <th></th>\n",
       "      <th>Fecha</th>\n",
       "      <th>Vendedor</th>\n",
       "      <th>Región</th>\n",
       "      <th>Artículo</th>\n",
       "      <th>Categoría</th>\n",
       "      <th>Unidades</th>\n",
       "      <th>Ganancia</th>\n",
       "    </tr>\n",
       "  </thead>\n",
       "  <tbody>\n",
       "    <tr>\n",
       "      <th>455</th>\n",
       "      <td>31/1/2016</td>\n",
       "      <td>Sarah Bond</td>\n",
       "      <td>Sur</td>\n",
       "      <td>Bufanda</td>\n",
       "      <td>Vestimenta</td>\n",
       "      <td>6</td>\n",
       "      <td>16,50</td>\n",
       "    </tr>\n",
       "    <tr>\n",
       "      <th>456</th>\n",
       "      <td>31/1/2016</td>\n",
       "      <td>Dustin Gee</td>\n",
       "      <td>Este</td>\n",
       "      <td>Sandalias</td>\n",
       "      <td>Vestimenta</td>\n",
       "      <td>11</td>\n",
       "      <td>115,50</td>\n",
       "    </tr>\n",
       "    <tr>\n",
       "      <th>457</th>\n",
       "      <td>31/1/2016</td>\n",
       "      <td>Dustin Gee</td>\n",
       "      <td>Este</td>\n",
       "      <td>Sánguche de Queso</td>\n",
       "      <td>Comestibles</td>\n",
       "      <td>4</td>\n",
       "      <td>6,40</td>\n",
       "    </tr>\n",
       "    <tr>\n",
       "      <th>458</th>\n",
       "      <td>31/1/2016</td>\n",
       "      <td>Dustin Gee</td>\n",
       "      <td>Norte</td>\n",
       "      <td>Escobillón</td>\n",
       "      <td>Hogar</td>\n",
       "      <td>8</td>\n",
       "      <td>6,80</td>\n",
       "    </tr>\n",
       "    <tr>\n",
       "      <th>459</th>\n",
       "      <td>31/1/2016</td>\n",
       "      <td>Trevor Snodgrass</td>\n",
       "      <td>Sur</td>\n",
       "      <td>Pepinillo</td>\n",
       "      <td>Comestibles</td>\n",
       "      <td>7</td>\n",
       "      <td>2,10</td>\n",
       "    </tr>\n",
       "  </tbody>\n",
       "</table>\n",
       "</div>"
      ],
      "text/plain": [
       "         Fecha          Vendedor Región           Artículo    Categoría  \\\n",
       "455  31/1/2016        Sarah Bond    Sur            Bufanda   Vestimenta   \n",
       "456  31/1/2016        Dustin Gee   Este          Sandalias   Vestimenta   \n",
       "457  31/1/2016        Dustin Gee   Este  Sánguche de Queso  Comestibles   \n",
       "458  31/1/2016        Dustin Gee  Norte         Escobillón        Hogar   \n",
       "459  31/1/2016  Trevor Snodgrass    Sur          Pepinillo  Comestibles   \n",
       "\n",
       "     Unidades Ganancia  \n",
       "455         6    16,50  \n",
       "456        11   115,50  \n",
       "457         4     6,40  \n",
       "458         8     6,80  \n",
       "459         7     2,10  "
      ]
     },
     "execution_count": 8,
     "metadata": {},
     "output_type": "execute_result"
    }
   ],
   "source": [
    "tabla.tail()"
   ]
  },
  {
   "cell_type": "markdown",
   "metadata": {},
   "source": [
    "con el metodo info podemos pedir informacion especifica del dataframe"
   ]
  },
  {
   "cell_type": "code",
   "execution_count": 9,
   "metadata": {},
   "outputs": [
    {
     "name": "stdout",
     "output_type": "stream",
     "text": [
      "<class 'pandas.core.frame.DataFrame'>\n",
      "RangeIndex: 460 entries, 0 to 459\n",
      "Data columns (total 7 columns):\n",
      " #   Column     Non-Null Count  Dtype \n",
      "---  ------     --------------  ----- \n",
      " 0   Fecha      460 non-null    object\n",
      " 1   Vendedor   460 non-null    object\n",
      " 2   Región     460 non-null    object\n",
      " 3   Artículo   460 non-null    object\n",
      " 4   Categoría  460 non-null    object\n",
      " 5   Unidades   460 non-null    int64 \n",
      " 6   Ganancia   460 non-null    object\n",
      "dtypes: int64(1), object(6)\n",
      "memory usage: 25.3+ KB\n"
     ]
    }
   ],
   "source": [
    "tabla.info()"
   ]
  },
  {
   "cell_type": "code",
   "execution_count": 10,
   "metadata": {},
   "outputs": [],
   "source": [
    "import matplotlib.pyplot as plt\n",
    "%matplotlib inline"
   ]
  },
  {
   "cell_type": "code",
   "execution_count": 11,
   "metadata": {},
   "outputs": [
    {
     "data": {
      "image/png": "[encoded data removed]",
      "text/plain": [
       "<Figure size 640x480 with 1 Axes>"
      ]
     },
     "metadata": {},
     "output_type": "display_data"
    }
   ],
   "source": [
    "tabla.plot(kind= 'scatter', x='Unidades', y='Ganancia');"
   ]
  },
  {
   "cell_type": "code",
   "execution_count": null,
   "metadata": {},
   "outputs": [],
   "source": []
  }
 ],
 "metadata": {
  "kernelspec": {
   "display_name": "Python 3 (ipykernel)",
   "language": "python",
   "name": "python3"
  },
  "language_info": {
   "codemirror_mode": {
    "name": "ipython",
    "version": 3
   },
   "file_extension": ".py",
   "mimetype": "text/x-python",
   "name": "python",
   "nbconvert_exporter": "python",
   "pygments_lexer": "ipython3",
   "version": "3.11.5"
  }
 },
 "nbformat": 4,
 "nbformat_minor": 2
}
