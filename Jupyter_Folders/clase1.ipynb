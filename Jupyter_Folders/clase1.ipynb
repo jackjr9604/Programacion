{
 "cells": [
  {
   "cell_type": "markdown",
   "id": "26c37c25",
   "metadata": {},
   "source": [
    "# Importar la bibliteca de Pandas"
   ]
  },
  {
   "cell_type": "code",
   "execution_count": 1,
   "id": "918f7176",
   "metadata": {},
   "outputs": [],
   "source": [
    "import pandas as pd"
   ]
  },
  {
   "cell_type": "markdown",
   "id": "9aea0afb",
   "metadata": {},
   "source": [
    "Nombro una funcion \"tabla\" y le digo q lea data frame en la ruta"
   ]
  },
  {
   "cell_type": "code",
   "execution_count": 2,
   "id": "3e4d73b7",
   "metadata": {},
   "outputs": [],
   "source": [
    "tabla = pd.read_csv(r'C:\\Users\\alabama\\Documents\\Programacion\\Jupyter_Folders\\TablaEjemplo.csv')"
   ]
  },
  {
   "cell_type": "markdown",
   "id": "8a09b199",
   "metadata": {},
   "source": [
    "asi se ve al llamar la funcion"
   ]
  },
  {
   "cell_type": "code",
   "execution_count": 3,
   "id": "646f57a7",
   "metadata": {},
   "outputs": [
    {
     "data": {
      "text/html": [
       "<div>\n",
       "<style scoped>\n",
       "    .dataframe tbody tr th:only-of-type {\n",
       "        vertical-align: middle;\n",
       "    }\n",
       "\n",
       "    .dataframe tbody tr th {\n",
       "        vertical-align: top;\n",
       "    }\n",
       "\n",
       "    .dataframe thead th {\n",
       "        text-align: right;\n",
       "    }\n",
       "</style>\n",
       "<table border=\"1\" class=\"dataframe\">\n",
       "  <thead>\n",
       "    <tr style=\"text-align: right;\">\n",
       "      <th></th>\n",
       "      <th>Nombre</th>\n",
       "      <th>Edad</th>\n",
       "      <th>País</th>\n",
       "      <th>Automovil</th>\n",
       "    </tr>\n",
       "  </thead>\n",
       "  <tbody>\n",
       "    <tr>\n",
       "      <th>0</th>\n",
       "      <td>Juan</td>\n",
       "      <td>35</td>\n",
       "      <td>México</td>\n",
       "      <td>No</td>\n",
       "    </tr>\n",
       "    <tr>\n",
       "      <th>1</th>\n",
       "      <td>Pedro</td>\n",
       "      <td>41</td>\n",
       "      <td>España</td>\n",
       "      <td>Si</td>\n",
       "    </tr>\n",
       "    <tr>\n",
       "      <th>2</th>\n",
       "      <td>María</td>\n",
       "      <td>28</td>\n",
       "      <td>Perú</td>\n",
       "      <td>Si</td>\n",
       "    </tr>\n",
       "    <tr>\n",
       "      <th>3</th>\n",
       "      <td>Laura</td>\n",
       "      <td>66</td>\n",
       "      <td>Argentina</td>\n",
       "      <td>No</td>\n",
       "    </tr>\n",
       "  </tbody>\n",
       "</table>\n",
       "</div>"
      ],
      "text/plain": [
       "  Nombre  Edad       País Automovil\n",
       "0   Juan    35     México        No\n",
       "1  Pedro    41     España        Si\n",
       "2  María    28       Perú        Si\n",
       "3  Laura    66  Argentina        No"
      ]
     },
     "execution_count": 3,
     "metadata": {},
     "output_type": "execute_result"
    }
   ],
   "source": [
    "tabla"
   ]
  },
  {
   "cell_type": "markdown",
   "id": "7acd9760",
   "metadata": {},
   "source": [
    "asi puedo llamar a una serie del data frame"
   ]
  },
  {
   "cell_type": "code",
   "execution_count": 4,
   "id": "64eed90d",
   "metadata": {},
   "outputs": [
    {
     "data": {
      "text/plain": [
       "0     Juan\n",
       "1    Pedro\n",
       "2    María\n",
       "3    Laura\n",
       "Name: Nombre, dtype: object"
      ]
     },
     "execution_count": 4,
     "metadata": {},
     "output_type": "execute_result"
    }
   ],
   "source": [
    "tabla[\"Nombre\"]"
   ]
  },
  {
   "cell_type": "markdown",
   "id": "12cd2fcc",
   "metadata": {},
   "source": [
    "otra forma de hacerlo pero asi no funciona si en la serie existen espacios"
   ]
  },
  {
   "cell_type": "code",
   "execution_count": 5,
   "id": "92201e58",
   "metadata": {},
   "outputs": [
    {
     "data": {
      "text/plain": [
       "0    35\n",
       "1    41\n",
       "2    28\n",
       "3    66\n",
       "Name: Edad, dtype: int64"
      ]
     },
     "execution_count": 5,
     "metadata": {},
     "output_type": "execute_result"
    }
   ],
   "source": [
    "tabla.Edad"
   ]
  },
  {
   "cell_type": "markdown",
   "id": "b2fff7b2",
   "metadata": {},
   "source": [
    "asi puedo llamar mas de una serie"
   ]
  },
  {
   "cell_type": "code",
   "execution_count": 6,
   "id": "e4388803",
   "metadata": {},
   "outputs": [
    {
     "data": {
      "text/html": [
       "<div>\n",
       "<style scoped>\n",
       "    .dataframe tbody tr th:only-of-type {\n",
       "        vertical-align: middle;\n",
       "    }\n",
       "\n",
       "    .dataframe tbody tr th {\n",
       "        vertical-align: top;\n",
       "    }\n",
       "\n",
       "    .dataframe thead th {\n",
       "        text-align: right;\n",
       "    }\n",
       "</style>\n",
       "<table border=\"1\" class=\"dataframe\">\n",
       "  <thead>\n",
       "    <tr style=\"text-align: right;\">\n",
       "      <th></th>\n",
       "      <th>Nombre</th>\n",
       "      <th>País</th>\n",
       "    </tr>\n",
       "  </thead>\n",
       "  <tbody>\n",
       "    <tr>\n",
       "      <th>0</th>\n",
       "      <td>Juan</td>\n",
       "      <td>México</td>\n",
       "    </tr>\n",
       "    <tr>\n",
       "      <th>1</th>\n",
       "      <td>Pedro</td>\n",
       "      <td>España</td>\n",
       "    </tr>\n",
       "    <tr>\n",
       "      <th>2</th>\n",
       "      <td>María</td>\n",
       "      <td>Perú</td>\n",
       "    </tr>\n",
       "    <tr>\n",
       "      <th>3</th>\n",
       "      <td>Laura</td>\n",
       "      <td>Argentina</td>\n",
       "    </tr>\n",
       "  </tbody>\n",
       "</table>\n",
       "</div>"
      ],
      "text/plain": [
       "  Nombre       País\n",
       "0   Juan     México\n",
       "1  Pedro     España\n",
       "2  María       Perú\n",
       "3  Laura  Argentina"
      ]
     },
     "execution_count": 6,
     "metadata": {},
     "output_type": "execute_result"
    }
   ],
   "source": [
    "tabla[[\"Nombre\",\"País\"]]"
   ]
  },
  {
   "cell_type": "markdown",
   "id": "387ab66b",
   "metadata": {},
   "source": [
    "aqui me dice el tipo de objeto es el q estoy usando, con el parametro TYPE, en este caso es una serie"
   ]
  },
  {
   "cell_type": "code",
   "execution_count": 7,
   "id": "aeb4a7bc",
   "metadata": {},
   "outputs": [
    {
     "data": {
      "text/plain": [
       "pandas.core.series.Series"
      ]
     },
     "execution_count": 7,
     "metadata": {},
     "output_type": "execute_result"
    }
   ],
   "source": [
    "type(tabla.Nombre)"
   ]
  },
  {
   "cell_type": "markdown",
   "id": "5844c612",
   "metadata": {},
   "source": [
    "En este caso es un data frame al pasar dos series juntas"
   ]
  },
  {
   "cell_type": "code",
   "execution_count": 8,
   "id": "bed70860",
   "metadata": {},
   "outputs": [
    {
     "data": {
      "text/plain": [
       "pandas.core.frame.DataFrame"
      ]
     },
     "execution_count": 8,
     "metadata": {},
     "output_type": "execute_result"
    }
   ],
   "source": [
    "type(tabla[[\"Nombre\",\"País\"]])"
   ]
  },
  {
   "cell_type": "code",
   "execution_count": 10,
   "id": "1d760656",
   "metadata": {},
   "outputs": [],
   "source": [
    "tabla2 = pd.read_csv(\"C:/Users/alabama/Documents/Programacion/Jupyter_Folders/ventasTotales.csv\" , skiprows=5 , sep= ';')"
   ]
  },
  {
   "cell_type": "code",
   "execution_count": null,
   "metadata": {},
   "outputs": [],
   "source": []
  }
 ],
 "metadata": {
  "kernelspec": {
   "display_name": "Python 3 (ipykernel)",
   "language": "python",
   "name": "python3"
  },
  "language_info": {
   "codemirror_mode": {
    "name": "ipython",
    "version": 3
   },
   "file_extension": ".py",
   "mimetype": "text/x-python",
   "name": "python",
   "nbconvert_exporter": "python",
   "pygments_lexer": "ipython3",
   "version": "3.11.5"
  }
 },
 "nbformat": 4,
 "nbformat_minor": 5
}
